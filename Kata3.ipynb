{
 "cells": [
  {
   "cell_type": "code",
   "execution_count": 1,
   "metadata": {},
   "outputs": [
    {
     "name": "stdout",
     "output_type": "stream",
     "text": [
      "Mira al cielo cuidado\n"
     ]
    }
   ],
   "source": [
    "velocidad = 49\n",
    "if velocidad > 25:\n",
    "    print('Mira al cielo cuidado')\n",
    "else:\n",
    "    print('Todo correcto que tenfa un buendia')"
   ]
  },
  {
   "cell_type": "code",
   "execution_count": 2,
   "metadata": {},
   "outputs": [
    {
     "name": "stdout",
     "output_type": "stream",
     "text": [
      "Todo bien\n"
     ]
    }
   ],
   "source": [
    "velocidad = 19\n",
    "if velocidad > 20:\n",
    "    print('Mira al cielo se acerca algo')\n",
    "elif velocidad == 20:\n",
    "    print('Mira al cielo se acerca algo')\n",
    "else:\n",
    "    print('Todo bien')"
   ]
  },
  {
   "cell_type": "code",
   "execution_count": 3,
   "metadata": {},
   "outputs": [
    {
     "name": "stdout",
     "output_type": "stream",
     "text": [
      "Mira un asteroide zurca el cielo\n"
     ]
    }
   ],
   "source": [
    "velocidad = 25\n",
    "tamanio = 40\n",
    "if velocidad > 25 and tamanio > 25:\n",
    "    print('Un asteroide peligroso se acerca a la Tierra')\n",
    "elif velocidad >= 20:\n",
    "    print('Mira un asteroide zurca el cielo')\n",
    "elif tamanio < 25:\n",
    "    print('Todo bien :)')\n",
    "else:\n",
    "    print('Todo bien :)')"
   ]
  }
 ],
 "metadata": {
  "interpreter": {
   "hash": "74a2c65db40036e633b4c90f812798cc4a67edc57d56d47804f2db491b08b6fb"
  },
  "kernelspec": {
   "display_name": "Python 3.10.2 64-bit (windows store)",
   "language": "python",
   "name": "python3"
  },
  "language_info": {
   "codemirror_mode": {
    "name": "ipython",
    "version": 3
   },
   "file_extension": ".py",
   "mimetype": "text/x-python",
   "name": "python",
   "nbconvert_exporter": "python",
   "pygments_lexer": "ipython3",
   "version": "3.10.2"
  },
  "orig_nbformat": 4
 },
 "nbformat": 4,
 "nbformat_minor": 2
}
