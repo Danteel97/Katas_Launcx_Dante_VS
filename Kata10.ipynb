{
 "cells": [
  {
   "cell_type": "code",
   "execution_count": null,
   "metadata": {},
   "outputs": [],
   "source": [
    "def main():\n",
    "    open(\"C:\\Users\\USUARIO\\Documents\\KatasDante/mars.jpg\")\n",
    "\n",
    "if __name__ == '__main__':\n",
    "    main()"
   ]
  },
  {
   "cell_type": "code",
   "execution_count": null,
   "metadata": {},
   "outputs": [],
   "source": [
    "def main():\n",
    "    try:\n",
    "        configuration = open('config.txt')\n",
    "    except FileNotFoundError:\n",
    "        print(\"No puedo encontrar el archivo config.txt\")\n",
    "\n",
    "\n",
    "if __name__ == '__main__':\n",
    "    main()"
   ]
  },
  {
   "cell_type": "code",
   "execution_count": null,
   "metadata": {},
   "outputs": [],
   "source": [
    "def main():\n",
    "    try:\n",
    "        configuration = open('config.txt')\n",
    "    except FileNotFoundError:\n",
    "        print(\"No pude encontrar el archivo config.txt\")\n",
    "    except IsADirectoryError:\n",
    "        print(\"Es un directorio, no un archivo\")\n",
    "    except (BlockingIOError, TimeoutError):\n",
    "        print(\"Saturacion de carga de trabajo no es posible leer el archivo\")"
   ]
  },
  {
   "cell_type": "code",
   "execution_count": null,
   "metadata": {},
   "outputs": [],
   "source": [
    "def water_left(astronautas, agua_sobrante, dias_restantes):\n",
    "    uso_diario = astronautas * 11\n",
    "    uso_total = uso_diario * dias_restantes\n",
    "    agua_total_restante = agua_sobrante - uso_total\n",
    "    return f\"Agua total restante es {dias_restantes} dias es: {agua_total_restante} litros\""
   ]
  },
  {
   "cell_type": "code",
   "execution_count": null,
   "metadata": {},
   "outputs": [],
   "source": [
    "def agua_restante(astronautas, agua_restante, dias_restante):\n",
    "    uso_diario = astronautas * 11\n",
    "    uso_totale = uso_diario * dias_restante\n",
    "    agua_total_restante = agua_restante - uso_diario\n",
    "    if agua_total_restante < 0:\n",
    "        raise RuntimeError(f\"There is not enough water for {astronautas} astronaut after {dias_restante} days!\")\n",
    "    return f\"Total water left after {dias_restante} days is: {agua_total_restante} liters\""
   ]
  },
  {
   "cell_type": "code",
   "execution_count": null,
   "metadata": {},
   "outputs": [],
   "source": [
    "try:\n",
    "    agua_restante(5, 100, 2)\n",
    "except RuntimeError as err:\n",
    "    sistema_navegacion(err)"
   ]
  }
 ],
 "metadata": {
  "language_info": {
   "name": "python"
  },
  "orig_nbformat": 4
 },
 "nbformat": 4,
 "nbformat_minor": 2
}
