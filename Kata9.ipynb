{
 "cells": [
  {
   "cell_type": "markdown",
   "metadata": {},
   "source": [
    "Ejercicio 1"
   ]
  },
  {
   "cell_type": "code",
   "execution_count": null,
   "metadata": {},
   "outputs": [],
   "source": [
    "def reporte(tanque_principal, tanque_externo, tanque_hidrogeno):\n",
    "    total_promedio = (tanque_principal + tanque_externo + tanque_hidrogeno) / 3\n",
    "    return f\"\"\"Reporte Combustible:\n",
    "    Promedio: {promedio}%\n",
    "    Tanque principal: {tanque_principal}%\n",
    "    Tanque externo: {tanque_externo}%\n",
    "    Tanque hidrogeno: {tanque_hidrogeno}% \n",
    "    \"\"\""
   ]
  },
  {
   "cell_type": "code",
   "execution_count": null,
   "metadata": {},
   "outputs": [],
   "source": [
    "print(generate_report(80, 70, 85))\n"
   ]
  },
  {
   "cell_type": "code",
   "execution_count": null,
   "metadata": {},
   "outputs": [],
   "source": [
    "def promedio(valores):\n",
    "    total = sum(valores)\n",
    "    items = len(valores)\n",
    "    return total / items\n",
    "\n",
    "\n",
    "average([20, 45, 71]) "
   ]
  },
  {
   "cell_type": "code",
   "execution_count": null,
   "metadata": {},
   "outputs": [],
   "source": [
    "def reporte(tanque_principal, tanque_externo, tanque_hidrogeno):\n",
    "    return f\"\"\"Fuel Report:\n",
    "    Promedio: {average([tanque_principal, tanque_externo, tanque_hidrogeno])}%\n",
    "    Tanque principal: {tanque_principal}%\n",
    "    Tanque externo: {tanque_externo}%\n",
    "    Taqnue hidrogeno: {tanque_hidrogeno}% \n",
    "    \"\"\"\n",
    "\n",
    "print(reporte(88, 76, 70))"
   ]
  },
  {
   "cell_type": "markdown",
   "metadata": {},
   "source": [
    "Ejercicio 2"
   ]
  },
  {
   "cell_type": "code",
   "execution_count": null,
   "metadata": {},
   "outputs": [],
   "source": [
    "def reporte_mision(pre_lanza, tiempo_vuelo, destino, tanque_externo, tanque_principal):\n",
    "    return f\"\"\"\n",
    "    Mision a {destino}\n",
    "    Tiempo total viaje: {pre_lanza + tiempo_vuelo} minutos\n",
    "    Combustible disponible: {tanque_externo + tanque_principal} galones\n",
    "    \"\"\"\n",
    "\n",
    "print(reporte_mision(14, 51, \"Moon\", 200000, 300000))"
   ]
  }
 ],
 "metadata": {
  "language_info": {
   "name": "python"
  },
  "orig_nbformat": 4
 },
 "nbformat": 4,
 "nbformat_minor": 2
}
